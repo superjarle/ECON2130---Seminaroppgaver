{
 "cells": [
  {
   "cell_type": "markdown",
   "id": "2416b795",
   "metadata": {},
   "source": [
    "## Løsningsforslag seminar 2"
   ]
  },
  {
   "cell_type": "code",
   "execution_count": 1,
   "id": "53947a66",
   "metadata": {},
   "outputs": [
    {
     "name": "stderr",
     "output_type": "stream",
     "text": [
      "Registered S3 methods overwritten by 'ggplot2':\n",
      "  method         from \n",
      "  [.quosures     rlang\n",
      "  c.quosures     rlang\n",
      "  print.quosures rlang\n",
      "Registered S3 method overwritten by 'rvest':\n",
      "  method            from\n",
      "  read_xml.response xml2\n",
      "-- Attaching packages --------------------------------------- tidyverse 1.2.1 --\n",
      "v ggplot2 3.1.1       v purrr   0.3.2  \n",
      "v tibble  2.1.1       v dplyr   0.8.0.1\n",
      "v tidyr   0.8.3       v stringr 1.4.0  \n",
      "v readr   1.3.1       v forcats 0.4.0  \n",
      "-- Conflicts ------------------------------------------ tidyverse_conflicts() --\n",
      "x dplyr::filter() masks stats::filter()\n",
      "x dplyr::lag()    masks stats::lag()\n"
     ]
    }
   ],
   "source": [
    "library(tidyverse)"
   ]
  },
  {
   "cell_type": "markdown",
   "id": "a93cbb2d",
   "metadata": {},
   "source": [
    "Henter inn data fra csv filen som ligger på canvas. Har lastet den ned i mappen `data`"
   ]
  },
  {
   "cell_type": "code",
   "execution_count": 2,
   "id": "61c351fa",
   "metadata": {},
   "outputs": [],
   "source": [
    "dodsfall <- read.csv(\"data/dodsfall.csv\")"
   ]
  },
  {
   "cell_type": "code",
   "execution_count": 3,
   "id": "16d8b445",
   "metadata": {},
   "outputs": [
    {
     "data": {
      "text/html": [
       "<table>\n",
       "<thead><tr><th scope=col>alder</th><th scope=col>kvinner</th><th scope=col>menn</th></tr></thead>\n",
       "<tbody>\n",
       "\t<tr><td>0-39 </td><td>  7  </td><td> 11  </td></tr>\n",
       "\t<tr><td>40-49</td><td>  7  </td><td> 14  </td></tr>\n",
       "\t<tr><td>50-59</td><td> 14  </td><td> 46  </td></tr>\n",
       "\t<tr><td>60-69</td><td> 52  </td><td>107  </td></tr>\n",
       "\t<tr><td>70-79</td><td>129  </td><td>211  </td></tr>\n",
       "\t<tr><td>80-89</td><td>213  </td><td>270  </td></tr>\n",
       "\t<tr><td>&gt;=90 </td><td>222     </td><td>136     </td></tr>\n",
       "</tbody>\n",
       "</table>\n"
      ],
      "text/latex": [
       "\\begin{tabular}{r|lll}\n",
       " alder & kvinner & menn\\\\\n",
       "\\hline\n",
       "\t 0-39  &   7   &  11  \\\\\n",
       "\t 40-49 &   7   &  14  \\\\\n",
       "\t 50-59 &  14   &  46  \\\\\n",
       "\t 60-69 &  52   & 107  \\\\\n",
       "\t 70-79 & 129   & 211  \\\\\n",
       "\t 80-89 & 213   & 270  \\\\\n",
       "\t >=90  & 222   & 136  \\\\\n",
       "\\end{tabular}\n"
      ],
      "text/markdown": [
       "\n",
       "| alder | kvinner | menn |\n",
       "|---|---|---|\n",
       "| 0-39  |   7   |  11   |\n",
       "| 40-49 |   7   |  14   |\n",
       "| 50-59 |  14   |  46   |\n",
       "| 60-69 |  52   | 107   |\n",
       "| 70-79 | 129   | 211   |\n",
       "| 80-89 | 213   | 270   |\n",
       "| >=90  | 222   | 136   |\n",
       "\n"
      ],
      "text/plain": [
       "  alder kvinner menn\n",
       "1 0-39    7      11 \n",
       "2 40-49   7      14 \n",
       "3 50-59  14      46 \n",
       "4 60-69  52     107 \n",
       "5 70-79 129     211 \n",
       "6 80-89 213     270 \n",
       "7 >=90  222     136 "
      ]
     },
     "metadata": {},
     "output_type": "display_data"
    }
   ],
   "source": [
    "dodsfall"
   ]
  },
  {
   "cell_type": "markdown",
   "id": "99894038",
   "metadata": {},
   "source": [
    "Dette kan bli litt vanskelig for R å lese inn. Det er informasjon på både rader og kolonner her, og siden jeg ønsker å bruke et diagram med stolper som er ved siden av hverandre, vil jeg gjøre om formatet til at det bare er informasjon om en stolpe per rad. Jeg bruker da funksjonen `gather`, for å gjøre dette. "
   ]
  },
  {
   "cell_type": "code",
   "execution_count": 4,
   "id": "e1ec254a",
   "metadata": {},
   "outputs": [],
   "source": [
    "dodsfall_lang <- gather(dodsfall, key = \"variabel\", value = \"verdi\", -alder)"
   ]
  },
  {
   "cell_type": "code",
   "execution_count": 5,
   "id": "bc681425",
   "metadata": {},
   "outputs": [
    {
     "data": {
      "text/html": [
       "<table>\n",
       "<thead><tr><th scope=col>alder</th><th scope=col>variabel</th><th scope=col>verdi</th></tr></thead>\n",
       "<tbody>\n",
       "\t<tr><td>0-39   </td><td>kvinner</td><td>  7    </td></tr>\n",
       "\t<tr><td>40-49  </td><td>kvinner</td><td>  7    </td></tr>\n",
       "\t<tr><td>50-59  </td><td>kvinner</td><td> 14    </td></tr>\n",
       "\t<tr><td>60-69  </td><td>kvinner</td><td> 52    </td></tr>\n",
       "\t<tr><td>70-79  </td><td>kvinner</td><td>129    </td></tr>\n",
       "\t<tr><td>80-89  </td><td>kvinner</td><td>213    </td></tr>\n",
       "\t<tr><td>&gt;=90 </td><td>kvinner </td><td>222     </td></tr>\n",
       "\t<tr><td>0-39   </td><td>menn   </td><td> 11    </td></tr>\n",
       "\t<tr><td>40-49  </td><td>menn   </td><td> 14    </td></tr>\n",
       "\t<tr><td>50-59  </td><td>menn   </td><td> 46    </td></tr>\n",
       "\t<tr><td>60-69  </td><td>menn   </td><td>107    </td></tr>\n",
       "\t<tr><td>70-79  </td><td>menn   </td><td>211    </td></tr>\n",
       "\t<tr><td>80-89  </td><td>menn   </td><td>270    </td></tr>\n",
       "\t<tr><td>&gt;=90                                        </td><td><span style=white-space:pre-wrap>menn   </span></td><td>136                                            </td></tr>\n",
       "</tbody>\n",
       "</table>\n"
      ],
      "text/latex": [
       "\\begin{tabular}{r|lll}\n",
       " alder & variabel & verdi\\\\\n",
       "\\hline\n",
       "\t 0-39    & kvinner &   7    \\\\\n",
       "\t 40-49   & kvinner &   7    \\\\\n",
       "\t 50-59   & kvinner &  14    \\\\\n",
       "\t 60-69   & kvinner &  52    \\\\\n",
       "\t 70-79   & kvinner & 129    \\\\\n",
       "\t 80-89   & kvinner & 213    \\\\\n",
       "\t >=90    & kvinner & 222    \\\\\n",
       "\t 0-39    & menn    &  11    \\\\\n",
       "\t 40-49   & menn    &  14    \\\\\n",
       "\t 50-59   & menn    &  46    \\\\\n",
       "\t 60-69   & menn    & 107    \\\\\n",
       "\t 70-79   & menn    & 211    \\\\\n",
       "\t 80-89   & menn    & 270    \\\\\n",
       "\t >=90    & menn    & 136    \\\\\n",
       "\\end{tabular}\n"
      ],
      "text/markdown": [
       "\n",
       "| alder | variabel | verdi |\n",
       "|---|---|---|\n",
       "| 0-39    | kvinner |   7     |\n",
       "| 40-49   | kvinner |   7     |\n",
       "| 50-59   | kvinner |  14     |\n",
       "| 60-69   | kvinner |  52     |\n",
       "| 70-79   | kvinner | 129     |\n",
       "| 80-89   | kvinner | 213     |\n",
       "| >=90    | kvinner | 222     |\n",
       "| 0-39    | menn    |  11     |\n",
       "| 40-49   | menn    |  14     |\n",
       "| 50-59   | menn    |  46     |\n",
       "| 60-69   | menn    | 107     |\n",
       "| 70-79   | menn    | 211     |\n",
       "| 80-89   | menn    | 270     |\n",
       "| >=90    | menn    | 136     |\n",
       "\n"
      ],
      "text/plain": [
       "   alder variabel verdi\n",
       "1  0-39  kvinner    7  \n",
       "2  40-49 kvinner    7  \n",
       "3  50-59 kvinner   14  \n",
       "4  60-69 kvinner   52  \n",
       "5  70-79 kvinner  129  \n",
       "6  80-89 kvinner  213  \n",
       "7  >=90  kvinner  222  \n",
       "8  0-39  menn      11  \n",
       "9  40-49 menn      14  \n",
       "10 50-59 menn      46  \n",
       "11 60-69 menn     107  \n",
       "12 70-79 menn     211  \n",
       "13 80-89 menn     270  \n",
       "14 >=90  menn     136  "
      ]
     },
     "metadata": {},
     "output_type": "display_data"
    }
   ],
   "source": [
    "dodsfall_lang"
   ]
  },
  {
   "cell_type": "markdown",
   "id": "421f6be7",
   "metadata": {},
   "source": [
    "Lager selve plottet av data ved hjelp av ggplot funksjonen som er innebygd i tidyverse. "
   ]
  },
  {
   "cell_type": "code",
   "execution_count": 6,
   "id": "15bbae97",
   "metadata": {
    "scrolled": true
   },
   "outputs": [
    {
     "data": {
      "image/png": "[encoded data removed]",
      "text/plain": [
       "plot without title"
      ]
     },
     "metadata": {},
     "output_type": "display_data"
    }
   ],
   "source": [
    "ggplot(dodsfall_lang, aes(x = factor(alder, level=c(\"0-39\", \"40-49\", \"50-59\", \"60-69\", \"70-79\", \"80-89\", \">=90\")), y = verdi, fill = variabel)) +\n",
    "  geom_col(position = \"dodge\") +\n",
    "  scale_fill_manual(values = c(\"menn\" = \"steelblue1\", \"kvinner\" = \"lightpink\")) +\n",
    "  labs(x = \"Aldersgruppe\", y = \"Dodsfall\", fill = \"\") +\n",
    "  ggtitle(\"Dodsfall etter alder og kjonn, kvinner, and menn\")\n"
   ]
  }
 ],
 "metadata": {
  "kernelspec": {
   "display_name": "R",
   "language": "R",
   "name": "ir"
  },
  "language_info": {
   "codemirror_mode": "r",
   "file_extension": ".r",
   "mimetype": "text/x-r-source",
   "name": "R",
   "pygments_lexer": "r",
   "version": "3.6.1"
  }
 },
 "nbformat": 4,
 "nbformat_minor": 5
}
