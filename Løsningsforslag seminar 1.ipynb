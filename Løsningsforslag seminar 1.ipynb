{
 "cells": [
  {
   "cell_type": "markdown",
   "id": "74ff881f",
   "metadata": {},
   "source": [
    "## Seminar 1. ECON2130 \n",
    "\n",
    "#### Oppgave 1\n"
   ]
  },
  {
   "cell_type": "code",
   "execution_count": null,
   "id": "c6058380",
   "metadata": {},
   "outputs": [],
   "source": [
    "vektora <- c(31, 47, 47, 45, 46, 38, 53, 54, 60)\n",
    "vektorb <- c(134, 32, 164, 73, 5, 64, 39, 25, 7)"
   ]
  },
  {
   "cell_type": "markdown",
   "id": "a958e938",
   "metadata": {},
   "source": [
    "henter ut litt beskrivende statistikk om de ulike vektorene"
   ]
  },
  {
   "cell_type": "code",
   "execution_count": null,
   "id": "7fa18dfb",
   "metadata": {},
   "outputs": [],
   "source": [
    "summary(vektora)\n",
    "summary(vektorb)"
   ]
  },
  {
   "cell_type": "code",
   "execution_count": null,
   "id": "90f8742c",
   "metadata": {
    "scrolled": true
   },
   "outputs": [],
   "source": [
    "## Altnerativt\n",
    "mean(vektora)\n",
    "median(vektora)\n",
    "quantile(vektora)"
   ]
  },
  {
   "cell_type": "code",
   "execution_count": null,
   "id": "1219da3d",
   "metadata": {},
   "outputs": [],
   "source": [
    "## Bruker funksjoner for å finne varians og standardavvik\n",
    "var_vektora <- var(vektora)\n",
    "sd(vektora)"
   ]
  },
  {
   "cell_type": "code",
   "execution_count": null,
   "id": "de230deb",
   "metadata": {},
   "outputs": [],
   "source": [
    "sqrt(var_vektora)"
   ]
  },
  {
   "cell_type": "code",
   "execution_count": null,
   "id": "aca0ae1d",
   "metadata": {},
   "outputs": [],
   "source": [
    "print(paste0(\"Vi har funnet ut at variansen i vektoren A er, \", var_vektora,  \", gøy :)\"))"
   ]
  },
  {
   "cell_type": "code",
   "execution_count": null,
   "id": "f00ef8b5",
   "metadata": {},
   "outputs": [],
   "source": [
    "print(paste0(\"Standardavviket til vektor A er, \", sqrt(var_vektora), \"\"))"
   ]
  },
  {
   "cell_type": "markdown",
   "id": "3748e33e",
   "metadata": {},
   "source": [
    "##### Angående vektorB er det følgende"
   ]
  },
  {
   "cell_type": "code",
   "execution_count": null,
   "id": "7a18fb24",
   "metadata": {},
   "outputs": [],
   "source": [
    "var(vektorb)\n",
    "sd(vektorb)"
   ]
  },
  {
   "cell_type": "markdown",
   "id": "5df3e181",
   "metadata": {},
   "source": [
    "#### Oppgave 2 "
   ]
  },
  {
   "cell_type": "code",
   "execution_count": null,
   "id": "ff9e19f8",
   "metadata": {},
   "outputs": [],
   "source": [
    "## Endrer bare navnet på de to vektorene vi har til å være gjeldende med ny informasjon\n",
    "inntekt_mor <- vektora\n",
    "inntekt_datter <- vektorb "
   ]
  },
  {
   "cell_type": "code",
   "execution_count": null,
   "id": "615effdc",
   "metadata": {},
   "outputs": [],
   "source": [
    "print(paste0(\"Covariansen mellom inntekt mor og inntekt datter er \", cov(inntekt_datter, inntekt_mor), \"\"))\n",
    "print(paste0(\"Korrelasjonen mellom inntekt mor og inntekt datter er \", cor(inntekt_datter, inntekt_mor), \"\"))"
   ]
  },
  {
   "cell_type": "code",
   "execution_count": null,
   "id": "b4d10612",
   "metadata": {},
   "outputs": [],
   "source": [
    "## Skriver ut et plot for å gjøre dette synlig med svaret\n",
    "\n",
    "plot(inntekt_mor, inntekt_datter, main=\"Plot av data\",\n",
    "   xlab=\"Inntekt til mor\", ylab=\"Inntekt til datter\", pch=10)"
   ]
  },
  {
   "cell_type": "markdown",
   "id": "05b1c57f",
   "metadata": {},
   "source": [
    "#### Oppgave 3 \n",
    "\n",
    "##### Oppgave 1 fra Yakir\n",
    "\n",
    "De følgende oppgavene referer til Yakir sin tekstbok med oppgaver, som du kan finne `her` https://eleuven.github.io/statthink/ChapIntroR.html#exercises"
   ]
  },
  {
   "cell_type": "markdown",
   "id": "09ec5cac",
   "metadata": {},
   "source": [
    "1.1\n",
    "\n",
    "1. The 500 registered voters.\n",
    "\n",
    "2. The percentage, among all registered voters of the given party, of those that prefer a male candidate.\n",
    "\n",
    "3. The number 42% that corresponds to the percentage of those that prefer a female candidate.\n",
    "\n",
    "4. The voters in the state that are registered to the given party."
   ]
  },
  {
   "cell_type": "markdown",
   "id": "c11b9ceb",
   "metadata": {},
   "source": [
    "- Populasjonen er hele universet vi kan muligens se på. Dette er alle som kan stemme i staten, altså 4.\n",
    "- Utvalget er de 500 registrerte velgerne man har valgt å spørre\n",
    "- En parameter er en egenskap. I dette tilfellet er dette populasjonens andel som foretrekker en mann.\n",
    "- En statistikk er en beskrivelse størrelse for utvalget. Her er dette utvalgets andel som foretrekker en kvinne (42 % ) "
   ]
  },
  {
   "cell_type": "markdown",
   "id": "88c552e6",
   "metadata": {},
   "source": [
    "1.2 \n",
    "\n",
    "1. Identify the number of days in which 5 costumers where waiting.\n",
    "\n",
    "2. The number of waiting costumers that occurred the largest number of times.\n",
    "\n",
    "3. The number of waiting costumers that occurred the least number of times."
   ]
  },
  {
   "cell_type": "code",
   "execution_count": null,
   "id": "661285ec",
   "metadata": {},
   "outputs": [],
   "source": [
    "## Bruker vektoren fra oppgaven\n",
    "\n",
    "kunder <- c(4,2,1,1,0,2,1,2,4,2,5,3,1,5,1,5,1,2,1,1,3,4,2,4,3)"
   ]
  },
  {
   "cell_type": "code",
   "execution_count": null,
   "id": "09c7881a",
   "metadata": {},
   "outputs": [],
   "source": [
    "#install.packages('epiDisplay')\n",
    "library('epiDisplay')"
   ]
  },
  {
   "cell_type": "code",
   "execution_count": null,
   "id": "23a3598f",
   "metadata": {},
   "outputs": [],
   "source": [
    "tab1(kunder, cum.percent = TRUE)"
   ]
  },
  {
   "cell_type": "markdown",
   "id": "556fe444",
   "metadata": {},
   "source": [
    "Som vi kan se fra figuren over, er antall kunder 0 det som er den laveste dager, med 1 gang, og antall kunder i kø 1 det som forekom flest ganger, med hele 8 dager. "
   ]
  },
  {
   "cell_type": "markdown",
   "id": "2a682188",
   "metadata": {},
   "source": [
    "##### Oppgave 2 fra Yakir\n",
    "\n",
    "De følgende oppgavene referer til https://eleuven.github.io/statthink/ChapData.html#exercises-1"
   ]
  },
  {
   "attachments": {
    "image.png": {
     "image/png": "[encoded data removed]"
    }
   },
   "cell_type": "markdown",
   "id": "cde85470",
   "metadata": {},
   "source": [
    "![image.png](attachment:image.png)"
   ]
  },
  {
   "cell_type": "code",
   "execution_count": null,
   "id": "ac6ec6f4",
   "metadata": {},
   "outputs": [],
   "source": [
    "print(paste0(\"Den relative frekvensen til direkte hits av styrke 1 er, \", sum(0.6630, -0.2637), \"\"))"
   ]
  },
  {
   "cell_type": "code",
   "execution_count": null,
   "id": "f829c8de",
   "metadata": {},
   "outputs": [],
   "source": [
    "print(paste0(\"Den relative frekvensen til direkte hits av styrke 4 eller mer er, \", sum(1, -0.2601, -0.6630), \"\"))"
   ]
  },
  {
   "attachments": {
    "image.png": {
     "image/png": "[encoded data removed]"
    }
   },
   "cell_type": "markdown",
   "id": "314fb9f1",
   "metadata": {},
   "source": [
    "##### 2.2\n",
    "\n",
    "![image.png](attachment:image.png)\n",
    "\n"
   ]
  },
  {
   "cell_type": "markdown",
   "id": "6383835c",
   "metadata": {},
   "source": [
    "1. Antall kyr involvert i studiet var 45. (Kummulativ sum)\n",
    "2. Antall kuyr som fikk 4 kalver er (28 - 18 ) = 10.\n",
    "3. Relativ frekvens for kyr som ga minst 4 kalver. (enklest å lage en vektor)"
   ]
  },
  {
   "cell_type": "code",
   "execution_count": null,
   "id": "272a4b4e",
   "metadata": {},
   "outputs": [],
   "source": [
    "kyr <-rep(c(1,2,3,4,5,6,7),times=c(4,3,11,10,4,6,7))\n",
    "table(kyr)"
   ]
  },
  {
   "cell_type": "code",
   "execution_count": null,
   "id": "7d1f7d46",
   "metadata": {},
   "outputs": [],
   "source": [
    "tab1(kyr, cum.percent = TRUE)"
   ]
  },
  {
   "cell_type": "markdown",
   "id": "d75e3119",
   "metadata": {},
   "source": [
    "Vi ser fra tabellen over at den kummulative frekvensen til 3 eller mindre er `40 prosent`. Det vil si at ved 4 eller flere kyr er det ` 100 - 40 = 60% `"
   ]
  },
  {
   "cell_type": "markdown",
   "id": "610ed683",
   "metadata": {},
   "source": [
    "#### Oppgave 4"
   ]
  },
  {
   "attachments": {
    "image-2.png": {
     "image/png": "[encoded data removed]"
    },
    "image-3.png": {
     "image/png": "[encoded data removed]"
    },
    "image-4.png": {
     "image/png": "[encoded data removed]"
    },
    "image.png": {
     "image/png": "[encoded data removed]"
    }
   },
   "cell_type": "markdown",
   "id": "e3d15ae2",
   "metadata": {},
   "source": [
    "![image.png](attachment:image.png)\n",
    "\n",
    "![image-2.png](attachment:image-2.png) ![image-3.png](attachment:image-3.png) ![image-4.png](attachment:image-4.png)"
   ]
  },
  {
   "cell_type": "markdown",
   "id": "3d4d53f8",
   "metadata": {},
   "source": [
    " - x3 har mye lavere median og gjennomsnitt enn de andre to. --> histrogram a\n",
    " - x2 har mye større variasjonsbredde (fra min til max) enn x1. --> histrogram c. "
   ]
  }
 ],
 "metadata": {
  "kernelspec": {
   "display_name": "R",
   "language": "R",
   "name": "ir"
  },
  "language_info": {
   "codemirror_mode": "r",
   "file_extension": ".r",
   "mimetype": "text/x-r-source",
   "name": "R",
   "pygments_lexer": "r",
   "version": "3.6.1"
  }
 },
 "nbformat": 4,
 "nbformat_minor": 5
}
